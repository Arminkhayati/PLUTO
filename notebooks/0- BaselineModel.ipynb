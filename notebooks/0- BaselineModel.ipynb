{
 "cells": [
  {
   "cell_type": "markdown",
   "metadata": {},
   "source": [
    "## Build a Model"
   ]
  },
  {
   "cell_type": "code",
   "execution_count": 1,
   "metadata": {},
   "outputs": [],
   "source": [
    "import pandas as pd\n",
    "import numpy as np"
   ]
  },
  {
   "cell_type": "code",
   "execution_count": 4,
   "metadata": {},
   "outputs": [],
   "source": [
    "test_data = pd.read_csv(\"../data/test.csv\", index_col=\"index\", low_memory=False)\n",
    "train_data = pd.read_csv(\"../data/train.csv\", index_col=\"index\", low_memory=False)"
   ]
  },
  {
   "cell_type": "markdown",
   "metadata": {},
   "source": [
    "### About the data"
   ]
  },
  {
   "cell_type": "code",
   "execution_count": 5,
   "metadata": {},
   "outputs": [
    {
     "name": "stdout",
     "output_type": "stream",
     "text": [
      "test data size:  (171843, 62)\n",
      "train data size:  (687369, 63)\n"
     ]
    }
   ],
   "source": [
    "### How large is the training data set and the test data set?\n",
    "print(\"test data size: \", test_data.shape)\n",
    "print(\"train data size: \", train_data.shape)"
   ]
  },
  {
   "cell_type": "code",
   "execution_count": 6,
   "metadata": {},
   "outputs": [
    {
     "data": {
      "text/plain": [
       "target__office\n",
       "False    681787\n",
       "True       5582\n",
       "Name: count, dtype: int64"
      ]
     },
     "execution_count": 6,
     "metadata": {},
     "output_type": "execute_result"
    }
   ],
   "source": [
    "### train data\n",
    "train_data.target__office.value_counts()"
   ]
  },
  {
   "cell_type": "markdown",
   "metadata": {},
   "source": [
    "# Features"
   ]
  },
  {
   "cell_type": "markdown",
   "metadata": {},
   "source": [
    "## Baseline Model Review\n",
    "\n",
    "In the provided baseline model, several ambiguous points require attention.\n",
    "\n",
    "### Feature Selection:\n",
    "\n",
    "- **Issue:** The reason for choosing specific columns as features is not clearly articulated.\n",
    "  \n",
    "- **Recommendation:** Begin by providing a rationale for the selection of these columns. Explain why each feature is relevant to the analysis, the problem at hand, or the domain.\n",
    "\n",
    "### Missing Values Handling:\n",
    "\n",
    "- **Issue:** Missing values (NaN) in the dataset have not been addressed.\n",
    "  \n",
    "- **Recommendation:** Implement a strategy for handling missing values, such as imputation or removal. Additionally, it's crucial to investigate whether the presence of NaN values conveys any meaningful information. Determine if the absence of data in certain columns holds significance and document your findings.\n",
    "\n",
    "### Feature Engineering and Selection:\n",
    "\n",
    "- **Issue:** The data analysis lacks a dedicated feature engineering and feature selection process.\n",
    "  \n",
    "- **Recommendation:** Explore and create new features that might enhance the model's predictive power. Additionally, consider employing techniques for feature selection to identify the most impactful variables. This step is essential for refining the model and improving its efficiency.\n"
   ]
  },
  {
   "cell_type": "code",
   "execution_count": null,
   "metadata": {
    "scrolled": true
   },
   "outputs": [],
   "source": [
    "### numerical features\n",
    "train_data.select_dtypes(include=\"number\").columns"
   ]
  },
  {
   "cell_type": "code",
   "execution_count": null,
   "metadata": {},
   "outputs": [],
   "source": [
    "train_data[train_data.target__office == True][\"officearea\"].describe()"
   ]
  },
  {
   "cell_type": "code",
   "execution_count": null,
   "metadata": {},
   "outputs": [],
   "source": [
    "train_data[train_data.target__office == True][\"landuse\"].value_counts()"
   ]
  },
  {
   "cell_type": "code",
   "execution_count": null,
   "metadata": {
    "scrolled": true
   },
   "outputs": [],
   "source": [
    "train_data[train_data.target__office == False][\"officearea\"].describe()"
   ]
  },
  {
   "cell_type": "code",
   "execution_count": null,
   "metadata": {},
   "outputs": [],
   "source": [
    "train_data[train_data.target__office == False][\"landuse\"].value_counts()"
   ]
  },
  {
   "cell_type": "markdown",
   "metadata": {},
   "source": [
    "# Train the Model"
   ]
  },
  {
   "cell_type": "markdown",
   "metadata": {},
   "source": [
    "Upon examining the output of the `value_counts()` method applied to the target variable, a noticeable bias is observed between the counts of the two labels.\n",
    "\n",
    "## Issue:\n",
    "\n",
    "- **Imbalance in Target Variable:**\n",
    "  The count distribution of the labels in the target variable reveals a significant bias.\n",
    "\n",
    "## Recommendation:\n",
    "\n",
    "- **Addressing Imbalance:**\n",
    "  It's imperative to acknowledge and address the issue of imbalance in the target variable. Class imbalance can have adverse effects on model training and performance, especially in tasks like classification.\n",
    "\n",
    "- **Potential Solutions:**\n",
    "  - **Ensemble Different Resampled Datasets:**\n",
    "    The easiest way to successfully generalize a model is by using more data. The problem is that out-of-the-box classifiers like logistic regression or random forest tend to generalize by discarding the rare class. One easy best practice is building n models that use all the samples of the rare class and n-differing samples of the abundant class.\n",
    "\n",
    "  - **Resample with Different Ratios:**\n",
    "    The previous approach can be fine-tuned by playing with the ratio between the rare and the abundant class.\n",
    "\n",
    "  - **Other Approaches:**\n",
    "    Explore various techniques to handle class imbalance, such as oversampling the minority class, undersampling the majority class, or using more advanced methods like SMOTE (Synthetic Minority Over-sampling Technique). Selecting an appropriate solution depends on the specific characteristics of the dataset and the problem at hand.\n"
   ]
  },
  {
   "cell_type": "code",
   "execution_count": 7,
   "metadata": {},
   "outputs": [],
   "source": [
    "from sklearn.ensemble import RandomForestClassifier\n",
    "from sklearn.model_selection import train_test_split"
   ]
  },
  {
   "cell_type": "code",
   "execution_count": 8,
   "metadata": {},
   "outputs": [],
   "source": [
    "feature_cols = [\"officearea\", \"comarea\", \"yearbuilt\"]"
   ]
  },
  {
   "cell_type": "code",
   "execution_count": 9,
   "metadata": {},
   "outputs": [],
   "source": [
    "X = train_data[feature_cols].copy(deep=True)\n",
    "y = train_data[\"target__office\"].copy(deep=True)\n"
   ]
  },
  {
   "cell_type": "code",
   "execution_count": 10,
   "metadata": {},
   "outputs": [],
   "source": [
    "X_train, X_test, y_train, y_test = train_test_split(X, y, test_size=0.33, random_state=42)"
   ]
  },
  {
   "cell_type": "markdown",
   "metadata": {},
   "source": [
    "## Model Parameter Selection Analysis\n",
    "\n",
    "In the current implementation, there is a lack of clarity regarding the rationale behind choosing specific model parameters. It is crucial to provide a transparent justification for the selected parameters. Utilizing hyperparameter optimization techniques can enhance the model's performance and address the ambiguity in the parameter selection process.\n",
    "\n",
    "### Issue:\n",
    "\n",
    "- **Lack of Transparency in Model Parameters:**\n",
    "  The reasoning behind the chosen model parameters is not clearly articulated, leading to uncertainty about their appropriateness for the given task.\n",
    "\n",
    "### Recommendation:\n",
    "\n",
    "- **Hyperparameter Optimization:**\n",
    "  Consider employing hyperparameter optimization techniques to systematically search for the most suitable combination of model parameters. Techniques such as grid search, random search, or more advanced methods like Bayesian optimization can help identify optimal hyperparameter values.\n",
    "\n",
    "- **Benefits of Optimization:**\n",
    "  Hyperparameter optimization aims to enhance model performance by fine-tuning the parameters, leading to better generalization and improved results on unseen data. This process adds a layer of robustness to the model and ensures that it performs well across various scenarios.\n"
   ]
  },
  {
   "cell_type": "code",
   "execution_count": 11,
   "metadata": {},
   "outputs": [],
   "source": [
    "clf = RandomForestClassifier(max_depth=2, random_state=0)"
   ]
  },
  {
   "cell_type": "code",
   "execution_count": 12,
   "metadata": {},
   "outputs": [
    {
     "data": {
      "text/html": [
       "<style>#sk-container-id-1 {color: black;}#sk-container-id-1 pre{padding: 0;}#sk-container-id-1 div.sk-toggleable {background-color: white;}#sk-container-id-1 label.sk-toggleable__label {cursor: pointer;display: block;width: 100%;margin-bottom: 0;padding: 0.3em;box-sizing: border-box;text-align: center;}#sk-container-id-1 label.sk-toggleable__label-arrow:before {content: \"▸\";float: left;margin-right: 0.25em;color: #696969;}#sk-container-id-1 label.sk-toggleable__label-arrow:hover:before {color: black;}#sk-container-id-1 div.sk-estimator:hover label.sk-toggleable__label-arrow:before {color: black;}#sk-container-id-1 div.sk-toggleable__content {max-height: 0;max-width: 0;overflow: hidden;text-align: left;background-color: #f0f8ff;}#sk-container-id-1 div.sk-toggleable__content pre {margin: 0.2em;color: black;border-radius: 0.25em;background-color: #f0f8ff;}#sk-container-id-1 input.sk-toggleable__control:checked~div.sk-toggleable__content {max-height: 200px;max-width: 100%;overflow: auto;}#sk-container-id-1 input.sk-toggleable__control:checked~label.sk-toggleable__label-arrow:before {content: \"▾\";}#sk-container-id-1 div.sk-estimator input.sk-toggleable__control:checked~label.sk-toggleable__label {background-color: #d4ebff;}#sk-container-id-1 div.sk-label input.sk-toggleable__control:checked~label.sk-toggleable__label {background-color: #d4ebff;}#sk-container-id-1 input.sk-hidden--visually {border: 0;clip: rect(1px 1px 1px 1px);clip: rect(1px, 1px, 1px, 1px);height: 1px;margin: -1px;overflow: hidden;padding: 0;position: absolute;width: 1px;}#sk-container-id-1 div.sk-estimator {font-family: monospace;background-color: #f0f8ff;border: 1px dotted black;border-radius: 0.25em;box-sizing: border-box;margin-bottom: 0.5em;}#sk-container-id-1 div.sk-estimator:hover {background-color: #d4ebff;}#sk-container-id-1 div.sk-parallel-item::after {content: \"\";width: 100%;border-bottom: 1px solid gray;flex-grow: 1;}#sk-container-id-1 div.sk-label:hover label.sk-toggleable__label {background-color: #d4ebff;}#sk-container-id-1 div.sk-serial::before {content: \"\";position: absolute;border-left: 1px solid gray;box-sizing: border-box;top: 0;bottom: 0;left: 50%;z-index: 0;}#sk-container-id-1 div.sk-serial {display: flex;flex-direction: column;align-items: center;background-color: white;padding-right: 0.2em;padding-left: 0.2em;position: relative;}#sk-container-id-1 div.sk-item {position: relative;z-index: 1;}#sk-container-id-1 div.sk-parallel {display: flex;align-items: stretch;justify-content: center;background-color: white;position: relative;}#sk-container-id-1 div.sk-item::before, #sk-container-id-1 div.sk-parallel-item::before {content: \"\";position: absolute;border-left: 1px solid gray;box-sizing: border-box;top: 0;bottom: 0;left: 50%;z-index: -1;}#sk-container-id-1 div.sk-parallel-item {display: flex;flex-direction: column;z-index: 1;position: relative;background-color: white;}#sk-container-id-1 div.sk-parallel-item:first-child::after {align-self: flex-end;width: 50%;}#sk-container-id-1 div.sk-parallel-item:last-child::after {align-self: flex-start;width: 50%;}#sk-container-id-1 div.sk-parallel-item:only-child::after {width: 0;}#sk-container-id-1 div.sk-dashed-wrapped {border: 1px dashed gray;margin: 0 0.4em 0.5em 0.4em;box-sizing: border-box;padding-bottom: 0.4em;background-color: white;}#sk-container-id-1 div.sk-label label {font-family: monospace;font-weight: bold;display: inline-block;line-height: 1.2em;}#sk-container-id-1 div.sk-label-container {text-align: center;}#sk-container-id-1 div.sk-container {/* jupyter's `normalize.less` sets `[hidden] { display: none; }` but bootstrap.min.css set `[hidden] { display: none !important; }` so we also need the `!important` here to be able to override the default hidden behavior on the sphinx rendered scikit-learn.org. See: https://github.com/scikit-learn/scikit-learn/issues/21755 */display: inline-block !important;position: relative;}#sk-container-id-1 div.sk-text-repr-fallback {display: none;}</style><div id=\"sk-container-id-1\" class=\"sk-top-container\"><div class=\"sk-text-repr-fallback\"><pre>RandomForestClassifier(max_depth=2, random_state=0)</pre><b>In a Jupyter environment, please rerun this cell to show the HTML representation or trust the notebook. <br />On GitHub, the HTML representation is unable to render, please try loading this page with nbviewer.org.</b></div><div class=\"sk-container\" hidden><div class=\"sk-item\"><div class=\"sk-estimator sk-toggleable\"><input class=\"sk-toggleable__control sk-hidden--visually\" id=\"sk-estimator-id-1\" type=\"checkbox\" checked><label for=\"sk-estimator-id-1\" class=\"sk-toggleable__label sk-toggleable__label-arrow\">RandomForestClassifier</label><div class=\"sk-toggleable__content\"><pre>RandomForestClassifier(max_depth=2, random_state=0)</pre></div></div></div></div></div>"
      ],
      "text/plain": [
       "RandomForestClassifier(max_depth=2, random_state=0)"
      ]
     },
     "execution_count": 12,
     "metadata": {},
     "output_type": "execute_result"
    }
   ],
   "source": [
    "clf.fit(X_train, y_train)"
   ]
  },
  {
   "cell_type": "code",
   "execution_count": 13,
   "metadata": {},
   "outputs": [],
   "source": [
    "y_hat = clf.predict(X_test)"
   ]
  },
  {
   "cell_type": "markdown",
   "metadata": {},
   "source": [
    "# How does my model perform?"
   ]
  },
  {
   "cell_type": "markdown",
   "metadata": {},
   "source": [
    "In the current model evaluation approach, there are issues with the choice of metrics. The use of misleading metrics, such as accuracy, and inappropriate metrics, such as Mean Squared Error (MSE), for a classification problem can lead to a distorted assessment of model performance. Upon inspecting the confusion matrix, it becomes evident that all minority labels are misclassified.\n",
    "\n",
    "## Issues:\n",
    "\n",
    "- **Misleading Metrics:**\n",
    "  The use of accuracy as an evaluation metric can be misleading in the context of a classification problem, especially when dealing with imbalanced datasets. It does not provide a comprehensive understanding of the model's performance, particularly when one class significantly outweighs the other.\n",
    "\n",
    "- **Inappropriate Metric (MSE) for Classification:**\n",
    "  Mean Squared Error (MSE) is a metric commonly used for regression problems and is not suitable for evaluating the performance of a classification model. Its use in this context may lead to misinterpretation of the model's effectiveness.\n",
    "\n",
    "- **Misclassification of Minority Labels:**\n",
    "  Examination of the confusion matrix reveals that all minority labels are misclassified, indicating a specific problem with the model's ability to correctly identify instances of the minority class.\n",
    "\n",
    "## Recommendation:\n",
    "\n",
    "- **Use Appropriate Classification Metrics:**\n",
    "  Opt for classification-specific metrics such as precision, recall, F1 score, or area under the ROC curve (AUC-ROC) to provide a more nuanced evaluation of the model's performance, especially in the presence of class imbalance.\n",
    "\n",
    "- **Address Imbalanced Classes:**\n",
    "  Implement strategies to address the misclassification of minority labels. Techniques such as adjusting class weights, using different evaluation thresholds, or employing resampling methods can help mitigate the impact of class imbalance.\n"
   ]
  },
  {
   "cell_type": "code",
   "execution_count": 14,
   "metadata": {},
   "outputs": [],
   "source": [
    "from sklearn.metrics import mean_squared_error\n",
    "from sklearn.metrics import accuracy_score"
   ]
  },
  {
   "cell_type": "code",
   "execution_count": 15,
   "metadata": {
    "scrolled": true
   },
   "outputs": [
    {
     "name": "stdout",
     "output_type": "stream",
     "text": [
      "MSE: 0.007833991676659378\n",
      "Accuracy: 0.9921660083233407\n"
     ]
    }
   ],
   "source": [
    "print(\"MSE:\", mean_squared_error(y_test.astype(int), y_hat.astype(int)))\n",
    "print(\"Accuracy:\", accuracy_score(y_test.astype(int), y_hat.astype(int)))"
   ]
  },
  {
   "cell_type": "code",
   "execution_count": 19,
   "metadata": {},
   "outputs": [
    {
     "name": "stdout",
     "output_type": "stream",
     "text": [
      "0.9921660083233407\n"
     ]
    },
    {
     "data": {
      "image/png": "[encoded data removed]",
      "text/plain": [
       "<Figure size 640x480 with 2 Axes>"
      ]
     },
     "metadata": {},
     "output_type": "display_data"
    }
   ],
   "source": [
    "from sklearn.metrics import confusion_matrix, ConfusionMatrixDisplay\n",
    "import matplotlib.pyplot as plt\n",
    "\n",
    "print(accuracy_score(y_test.astype(int), y_hat.astype(int)))\n",
    "cm = confusion_matrix(y_test, y_hat)\n",
    "disp = ConfusionMatrixDisplay(confusion_matrix=cm, display_labels=clf.classes_)\n",
    "disp.plot()\n",
    "plt.show()"
   ]
  },
  {
   "cell_type": "code",
   "execution_count": null,
   "metadata": {},
   "outputs": [],
   "source": []
  }
 ],
 "metadata": {
  "kernelspec": {
   "display_name": "Python 3 (ipykernel)",
   "language": "python",
   "name": "python3"
  },
  "language_info": {
   "codemirror_mode": {
    "name": "ipython",
    "version": 3
   },
   "file_extension": ".py",
   "mimetype": "text/x-python",
   "name": "python",
   "nbconvert_exporter": "python",
   "pygments_lexer": "ipython3",
   "version": "3.8.18"
  }
 },
 "nbformat": 4,
 "nbformat_minor": 2
}
