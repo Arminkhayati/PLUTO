{
 "cells": [
  {
   "cell_type": "code",
   "execution_count": 7,
   "id": "0a97ed25",
   "metadata": {},
   "outputs": [],
   "source": [
    "import pandas as pd\n",
    "import numpy as np\n",
    "import matplotlib.pyplot as plt\n",
    "from category_encoders import MEstimateEncoder, OneHotEncoder\n",
    "from sklearn.model_selection import train_test_split\n",
    "from sklearn.pipeline import Pipeline, make_pipeline\n",
    "from sklearn.compose import ColumnTransformer\n",
    "from sklearn.feature_selection import mutual_info_classif\n",
    "from sklearn.feature_selection import SelectKBest\n",
    "from sklearn.ensemble import RandomForestClassifier\n",
    "from sklearn.metrics import confusion_matrix, ConfusionMatrixDisplay\n",
    "from sklearn.metrics import accuracy_score\n",
    "import os\n",
    "from typing import List, Tuple\n",
    "import joblib\n",
    "import cloudpickle\n",
    "import pickle\n",
    "from sklearn.impute import SimpleImputer"
   ]
  },
  {
   "cell_type": "code",
   "execution_count": 8,
   "id": "b0a21f82",
   "metadata": {},
   "outputs": [
    {
     "data": {
      "text/plain": [
       "['borough', 'splitzone', 'irrlotcode', 'proxcode']"
      ]
     },
     "execution_count": 8,
     "metadata": {},
     "output_type": "execute_result"
    }
   ],
   "source": [
    "test_data = pd.read_csv(\"../data/test.csv\", index_col=\"index\", low_memory=False)\n",
    "train_data = pd.read_csv(\"../data/train.csv\", index_col=\"index\", low_memory=False)\n",
    "\n",
    "categorical_features = train_data.select_dtypes(include=\"object\").columns\n",
    "numerical_features = train_data.select_dtypes(include=\"number\").columns\n",
    "\n",
    "numerical_features_new_set = [\n",
    "    'easements',\n",
    "    'lotarea',\n",
    "    'bldgarea',\n",
    "    'comarea',\n",
    "    'resarea',\n",
    "    'officearea',\n",
    "    'retailarea',\n",
    "    'garagearea',\n",
    "    'strgearea',\n",
    "    'factryarea',\n",
    "    'otherarea',\n",
    "    'numbldgs',\n",
    "    'numfloors',\n",
    "    'unitstotal',\n",
    "    'lotfront',\n",
    "    'lotdepth',\n",
    "    'bldgfront',\n",
    "    'bldgdepth',\n",
    "    'assessland',\n",
    "    'assesstot',\n",
    "    'exemptland',\n",
    "    'exempttot',\n",
    "    'builtfar',\n",
    "    'xcoord',\n",
    "    'ycoord',\n",
    "]\n",
    "\n",
    "\n",
    "extra_categorical_features = [f for f in numerical_features if f not in numerical_features_new_set]\n",
    "\n",
    "categorical_features = list(categorical_features) + extra_categorical_features\n",
    "numerical_features = numerical_features_new_set\n",
    "\n",
    "\n",
    "bool_mask = train_data[numerical_features].isnull().sum() <= 19211\n",
    "numerical_features = np.array(numerical_features)[bool_mask].tolist()\n",
    "\n",
    "bool_mask = train_data[categorical_features].isnull().sum() <= 12701\n",
    "categorical_features = np.array(categorical_features)[bool_mask].tolist()\n",
    "\n",
    "features_to_drop = ['yearalter1', 'yearalter2']\n",
    "categorical_features = [f for f in categorical_features if f not in features_to_drop ]\n",
    "\n",
    "\n",
    "one_hot_encode_columns = []\n",
    "target_encode_columns = []\n",
    "for f in categorical_features:\n",
    "    unique_values = train_data[f].unique()\n",
    "    if len(unique_values) > 5:\n",
    "        target_encode_columns.append(f)\n",
    "    else:\n",
    "        one_hot_encode_columns.append(f)\n",
    "        \n",
    "one_hot_encode_columns"
   ]
  },
  {
   "cell_type": "code",
   "execution_count": 9,
   "id": "f5bfb1ee",
   "metadata": {},
   "outputs": [],
   "source": [
    "import pluto_pipeline\n",
    "pipe = pluto_pipeline.PLOTUPipeline(categorical_features, numerical_features, \n",
    "                                    one_hot_encode_columns, target_encode_columns,\n",
    "                                    k=25, false_ratio=2)\n",
    "train_data = train_data.reset_index(drop=True)\n",
    "columns = [c for c in train_data.columns if c != \"target__office\"]\n",
    "pipe.fit(train_data[columns], train_data.target__office)\n",
    "\n"
   ]
  },
  {
   "cell_type": "code",
   "execution_count": 10,
   "id": "06f63cb7",
   "metadata": {},
   "outputs": [],
   "source": [
    "model_file = os.path.join(\"../models\", \"PLUTO_Pipeline.pkl\")\n",
    "\n",
    "cloudpickle.register_pickle_by_value(pluto_pipeline)\n",
    "with open(model_file, 'wb') as f:\n",
    "    cloudpickle.dump(pipe, f)"
   ]
  },
  {
   "cell_type": "code",
   "execution_count": null,
   "id": "0d7f5a97",
   "metadata": {},
   "outputs": [],
   "source": []
  }
 ],
 "metadata": {
  "kernelspec": {
   "display_name": "Python 3 (ipykernel)",
   "language": "python",
   "name": "python3"
  },
  "language_info": {
   "codemirror_mode": {
    "name": "ipython",
    "version": 3
   },
   "file_extension": ".py",
   "mimetype": "text/x-python",
   "name": "python",
   "nbconvert_exporter": "python",
   "pygments_lexer": "ipython3",
   "version": "3.8.18"
  }
 },
 "nbformat": 4,
 "nbformat_minor": 5
}
